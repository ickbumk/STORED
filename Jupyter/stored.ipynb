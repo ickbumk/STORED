{
 "cells": [
  {
   "cell_type": "code",
   "execution_count": 6,
   "id": "5a8d8430-48e4-4f43-a69d-7ee0f3cd3dba",
   "metadata": {},
   "outputs": [
    {
     "name": "stdout",
     "output_type": "stream",
     "text": [
      "MAD is: 0.007752000000000002\n"
     ]
    }
   ],
   "source": [
    "%run create_noisy_pcd.py --filename \"bun000.npy\""
   ]
  },
  {
   "cell_type": "code",
   "execution_count": 1,
   "id": "4099dc16-b5a3-41dc-9da9-c8b5d0fd9ede",
   "metadata": {},
   "outputs": [
    {
     "name": "stdout",
     "output_type": "stream",
     "text": [
      "Jupyter environment detected. Enabling Open3D WebVisualizer.\n",
      "[Open3D INFO] WebRTC GUI backend enabled.\n",
      "[Open3D INFO] WebRTCWindowSystem: HTTP handshake server disabled.\n"
     ]
    }
   ],
   "source": [
    "import torch\n",
    "import numpy as np\n",
    "import gc\n",
    "import glob\n",
    "from matplotlib import pyplot as plt\n",
    "from torch.utils.data import TensorDataset, DataLoader\n",
    "from sklearn.metrics import f1_score, precision_score, recall_score\n",
    "from utils import *\n",
    "from gprgpu_toolkit import *"
   ]
  },
  {
   "cell_type": "code",
   "execution_count": 2,
   "id": "d2924bfd-c81c-4107-aef6-996990a6a24b",
   "metadata": {},
   "outputs": [],
   "source": [
    "#gpu acceleration\n",
    "device = torch.device(\"cuda\" if torch.cuda.is_available() else \"cpu\")"
   ]
  },
  {
   "cell_type": "code",
   "execution_count": 3,
   "id": "43a5c441-4ad9-4179-bd7f-e37c72da30f8",
   "metadata": {},
   "outputs": [],
   "source": [
    "xyz = np.load('bun000.npy')"
   ]
  },
  {
   "cell_type": "code",
   "execution_count": 8,
   "id": "38d7c4d4-04c2-457a-ac94-3a5717086b05",
   "metadata": {},
   "outputs": [
    {
     "name": "stdout",
     "output_type": "stream",
     "text": [
      "MAD is: 0.007752000000000002\n",
      "Converged at iteration 46\n",
      "Tuning took: 46 iterations.\n",
      "Time taken for tuning is:  0.7049729824066162 seconds\n",
      "Predicting with the initial train dataset\n",
      "GPR iteration is : 81\n",
      "Time taken for prediction is : 18.764782428741455 seconds\n",
      "-----------\n",
      "-----------\n",
      "-----------\n",
      "F1 score is: 0.9156010230179028\n",
      "Recall is: 0.9430979978925185\n",
      "Precision is: 0.889662027833002\n",
      "-----------\n",
      "-----------\n",
      "-----------\n",
      "Tuning took: 5 iterations.\n",
      "Time taken for tuning is:  0.18987774848937988 seconds\n",
      "Predicting with the given prediction dataset of size: (40256, 3)\n",
      "GPR iteration is : 77\n",
      "Time taken for prediction is : 17.052069187164307 seconds\n",
      "-----------\n",
      "-----------\n",
      "-----------\n",
      "Noise correction complete with Chamfer Distance decrease (%): 78.62671828668554\n",
      "-----------\n",
      "-----------\n",
      "-----------\n"
     ]
    }
   ],
   "source": [
    "x_original, y_original, z_original = xyz.T\n",
    "z_outlier, outlier_indices = add_outlier_and_noise_mean(xyz, mad_multiplier = 0.5, percentage_outlier = 5)\n",
    "\n",
    "xyz_outlier = np.column_stack((x_original, y_original, z_outlier))\n",
    "\n",
    "normalized_xyz_outlier, norm_ind = normalize(xyz_outlier)\n",
    "\n",
    "hyp_opt, tuned_model = tune_gpr(device, normalized_xyz_outlier, GPModel, n_sample = 500, n_iter = 100, min_iter = 10, convergence_tol = 1e-2, early_stopping_patience = 3)\n",
    "mean_all, std_all = exact_gp(device, normalized_xyz_outlier, GPModel, hyp_opt, n_sample = 500, num_epochs = 2, pred_batch = True, batch_size = False, pred_dataset = [])\n",
    "score_final = score(mean_all, std_all, normalized_xyz_outlier)\n",
    "\n",
    "# Determine the best threshold (if ground truth not provided, then the user must define)\n",
    "best_threshold, f1, precision, recall = determine_best_t(score_final, outlier_indices)\n",
    "\n",
    "# Clear Memory\n",
    "torch.cuda.empty_cache()\n",
    "gc.collect()\n",
    "\n",
    "outlier_pred = score_final>best_threshold\n",
    "\n",
    "print('-----------')\n",
    "print('-----------')\n",
    "print('-----------')\n",
    "print('F1 score is:', f1)\n",
    "print('Recall is:', precision)\n",
    "print('Precision is:', recall)\n",
    "print('-----------')\n",
    "print('-----------')\n",
    "print('-----------')\n",
    "\n",
    "\n",
    "weighted_prediction = weighted_pred(mean_all, std_all)\n",
    "normalized_xyz_corrected = np.column_stack((normalized_xyz_outlier[:,:2],weighted_prediction))\n",
    "xyz_corrected = unnormalize(normalized_xyz_corrected, norm_ind)\n",
    "\n",
    "normalized_without_pred_outliers = normalized_xyz_outlier[~outlier_pred]\n",
    "\n",
    "# Recommended to tune_gpr with low iterations for better noise correction result\n",
    "hyp_opt_2, tuned_model_2 = tune_gpr(device, normalized_without_pred_outliers, GPModel, n_sample = 500, n_iter = 5, min_iter = 3, convergence_tol = 1e-2, early_stopping_patience = 3)\n",
    "mean_all_2, std_all_2 = exact_gp(device, normalized_without_pred_outliers, GPModel, hyp_opt_2, n_sample = 500, num_epochs = 2, pred_batch = False, batch_size = False, pred_dataset = normalized_xyz_outlier)\n",
    "weighted_prediction = weighted_pred(mean_all_2, std_all_2)\n",
    "\n",
    "\n",
    "# Clear Memory\n",
    "torch.cuda.empty_cache()\n",
    "gc.collect()\n",
    "\n",
    "normalized_xyz_corrected = np.column_stack((normalized_xyz_outlier[:,:2],weighted_prediction))\n",
    "\n",
    "xyz_corrected = unnormalize(normalized_xyz_corrected, norm_ind)\n",
    "\n",
    "print('-----------')\n",
    "print('-----------')\n",
    "print('-----------')\n",
    "print('Noise correction complete with Chamfer Distance decrease (%):', 100*(1-chamfer_distance(xyz, xyz_corrected)/chamfer_distance(xyz,xyz_outlier)))\n",
    "print('-----------')\n",
    "print('-----------')\n",
    "print('-----------')\n",
    "\n"
   ]
  },
  {
   "cell_type": "code",
   "execution_count": null,
   "id": "78d973a6-9e48-43d8-b86b-cae701af027c",
   "metadata": {},
   "outputs": [],
   "source": [
    "visualize(xyz_corrected)\n",
    "\n",
    "visualize_two(xyz_corrected, xyz)"
   ]
  }
 ],
 "metadata": {
  "kernelspec": {
   "display_name": "Python 3 (ipykernel)",
   "language": "python",
   "name": "python3"
  },
  "language_info": {
   "codemirror_mode": {
    "name": "ipython",
    "version": 3
   },
   "file_extension": ".py",
   "mimetype": "text/x-python",
   "name": "python",
   "nbconvert_exporter": "python",
   "pygments_lexer": "ipython3",
   "version": "3.9.19"
  }
 },
 "nbformat": 4,
 "nbformat_minor": 5
}
